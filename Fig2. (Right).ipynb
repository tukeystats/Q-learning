{
 "cells": [
  {
   "cell_type": "code",
   "execution_count": 5,
   "id": "bd0b4cc0",
   "metadata": {},
   "outputs": [
    {
     "name": "stdout",
     "output_type": "stream",
     "text": [
      "Value iteration converged in 11 iterations with error 5.37e-10.\n",
      "\n",
      "============================================================\n",
      "Running experiments for steps=500\n",
      "============================================================\n",
      "Running polynomial step-sizes...\n"
     ]
    },
    {
     "name": "stderr",
     "output_type": "stream",
     "text": [
      "\n",
      "\n",
      "Polynomial (steps=500):   0%|                                               | 0/500 [00:00<?, ?it/s]\u001b[A\u001b[A"
     ]
    },
    {
     "data": {
      "application/vnd.jupyter.widget-view+json": {
       "model_id": "0d6dbb4f26c34b829721d51a5ad218a8",
       "version_major": 2,
       "version_minor": 0
      },
      "text/plain": [
       "  0%|          | 0/500 [00:00<?, ?it/s]"
      ]
     },
     "metadata": {},
     "output_type": "display_data"
    },
    {
     "name": "stdout",
     "output_type": "stream",
     "text": [
      "Running constant step-sizes...\n"
     ]
    },
    {
     "name": "stderr",
     "output_type": "stream",
     "text": [
      "\n",
      "\n",
      "\n",
      "Constant (steps=500):   0%|                                                 | 0/500 [00:00<?, ?it/s]\u001b[A\u001b[A\u001b[A"
     ]
    },
    {
     "data": {
      "application/vnd.jupyter.widget-view+json": {
       "model_id": "c1be72da5d80472eae0b4cd22176007f",
       "version_major": 2,
       "version_minor": 0
      },
      "text/plain": [
       "  0%|          | 0/500 [00:00<?, ?it/s]"
      ]
     },
     "metadata": {},
     "output_type": "display_data"
    },
    {
     "name": "stdout",
     "output_type": "stream",
     "text": [
      "Running LD2Z step-sizes...\n"
     ]
    },
    {
     "name": "stderr",
     "output_type": "stream",
     "text": [
      "\n",
      "\n",
      "\n",
      "\n",
      "LD2Z (steps=500):   0%|                                                     | 0/500 [00:00<?, ?it/s]\u001b[A\u001b[A\u001b[A\u001b[A"
     ]
    },
    {
     "data": {
      "application/vnd.jupyter.widget-view+json": {
       "model_id": "78174ad058fc4f9babcd15287adc46d3",
       "version_major": 2,
       "version_minor": 0
      },
      "text/plain": [
       "  0%|          | 0/500 [00:00<?, ?it/s]"
      ]
     },
     "metadata": {},
     "output_type": "display_data"
    },
    {
     "name": "stderr",
     "output_type": "stream",
     "text": [
      "Polynomial (steps=500):   0%|                                               | 0/500 [00:48<?, ?it/s]\n",
      "Constant (steps=500):   0%|                                                 | 0/500 [00:25<?, ?it/s]\n"
     ]
    },
    {
     "name": "stdout",
     "output_type": "stream",
     "text": [
      "Running PDTZ (power=2) step-sizes...\n"
     ]
    },
    {
     "name": "stderr",
     "output_type": "stream",
     "text": [
      "\n",
      "\n",
      "PDTZ-2 (steps=500):   0%|                                                   | 0/500 [00:00<?, ?it/s]\u001b[A\u001b[A"
     ]
    },
    {
     "data": {
      "application/vnd.jupyter.widget-view+json": {
       "model_id": "ab83eb0c14ef417c82afac4ca588d34d",
       "version_major": 2,
       "version_minor": 0
      },
      "text/plain": [
       "  0%|          | 0/500 [00:00<?, ?it/s]"
      ]
     },
     "metadata": {},
     "output_type": "display_data"
    },
    {
     "name": "stdout",
     "output_type": "stream",
     "text": [
      "Running PDTZ (power=3) step-sizes...\n"
     ]
    },
    {
     "name": "stderr",
     "output_type": "stream",
     "text": [
      "\n",
      "\n",
      "\n",
      "PDTZ-3 (steps=500):   0%|                                                   | 0/500 [00:00<?, ?it/s]\u001b[A\u001b[A\u001b[A"
     ]
    },
    {
     "data": {
      "application/vnd.jupyter.widget-view+json": {
       "model_id": "9aa8efe955334231a5a9080f2fc24cb0",
       "version_major": 2,
       "version_minor": 0
      },
      "text/plain": [
       "  0%|          | 0/500 [00:00<?, ?it/s]"
      ]
     },
     "metadata": {},
     "output_type": "display_data"
    },
    {
     "name": "stdout",
     "output_type": "stream",
     "text": [
      "\n",
      "============================================================\n",
      "Running experiments for steps=1000\n",
      "============================================================\n",
      "Running polynomial step-sizes...\n"
     ]
    },
    {
     "name": "stderr",
     "output_type": "stream",
     "text": [
      "\n",
      "\n",
      "\n",
      "\n",
      "\n",
      "Polynomial (steps=1000):   0%|                                              | 0/500 [00:00<?, ?it/s]\u001b[A\u001b[A\u001b[A\u001b[A\u001b[A"
     ]
    },
    {
     "data": {
      "application/vnd.jupyter.widget-view+json": {
       "model_id": "9d8cc6799bc24716a013314428cb322c",
       "version_major": 2,
       "version_minor": 0
      },
      "text/plain": [
       "  0%|          | 0/500 [00:00<?, ?it/s]"
      ]
     },
     "metadata": {},
     "output_type": "display_data"
    },
    {
     "name": "stdout",
     "output_type": "stream",
     "text": [
      "Running constant step-sizes...\n"
     ]
    },
    {
     "name": "stderr",
     "output_type": "stream",
     "text": [
      "\n",
      "\n",
      "\n",
      "\n",
      "\n",
      "\n",
      "Constant (steps=1000):   0%|                                                | 0/500 [00:00<?, ?it/s]\u001b[A\u001b[A\u001b[A\u001b[A\u001b[A\u001b[A"
     ]
    },
    {
     "data": {
      "application/vnd.jupyter.widget-view+json": {
       "model_id": "d8b4992d919b4f8bb9e732dd18f0dc8c",
       "version_major": 2,
       "version_minor": 0
      },
      "text/plain": [
       "  0%|          | 0/500 [00:00<?, ?it/s]"
      ]
     },
     "metadata": {},
     "output_type": "display_data"
    },
    {
     "name": "stdout",
     "output_type": "stream",
     "text": [
      "Running LD2Z step-sizes...\n"
     ]
    },
    {
     "name": "stderr",
     "output_type": "stream",
     "text": [
      "\n",
      "\n",
      "\n",
      "\n",
      "\n",
      "\n",
      "\n",
      "LD2Z (steps=1000):   0%|                                                    | 0/500 [00:00<?, ?it/s]\u001b[A\u001b[A\u001b[A\u001b[A\u001b[A\u001b[A\u001b[A"
     ]
    },
    {
     "data": {
      "application/vnd.jupyter.widget-view+json": {
       "model_id": "7f7ec67d4dde4d62b6773a5fcb095309",
       "version_major": 2,
       "version_minor": 0
      },
      "text/plain": [
       "  0%|          | 0/500 [00:00<?, ?it/s]"
      ]
     },
     "metadata": {},
     "output_type": "display_data"
    },
    {
     "name": "stdout",
     "output_type": "stream",
     "text": [
      "Running PDTZ (power=2) step-sizes...\n"
     ]
    },
    {
     "name": "stderr",
     "output_type": "stream",
     "text": [
      "\n",
      "\n",
      "\n",
      "\n",
      "\n",
      "\n",
      "\n",
      "\n",
      "PDTZ-2 (steps=1000):   0%|                                                  | 0/500 [00:00<?, ?it/s]\u001b[A\u001b[A\u001b[A\u001b[A\u001b[A\u001b[A\u001b[A\u001b[A"
     ]
    },
    {
     "data": {
      "application/vnd.jupyter.widget-view+json": {
       "model_id": "17eb81fd06e94ed8a86a46aa6eb2ad29",
       "version_major": 2,
       "version_minor": 0
      },
      "text/plain": [
       "  0%|          | 0/500 [00:00<?, ?it/s]"
      ]
     },
     "metadata": {},
     "output_type": "display_data"
    },
    {
     "name": "stderr",
     "output_type": "stream",
     "text": [
      "PDTZ-2 (steps=500):   0%|                                                   | 0/500 [03:08<?, ?it/s]\n",
      "PDTZ-3 (steps=500):   0%|                                                   | 0/500 [02:45<?, ?it/s]\n",
      "Polynomial (steps=1000):   0%|                                              | 0/500 [02:23<?, ?it/s]\n",
      "Constant (steps=1000):   0%|                                                | 0/500 [01:38<?, ?it/s]\n",
      "LD2Z (steps=1000):   0%|                                                    | 0/500 [00:55<?, ?it/s]\n"
     ]
    },
    {
     "name": "stdout",
     "output_type": "stream",
     "text": [
      "Running PDTZ (power=3) step-sizes...\n"
     ]
    },
    {
     "name": "stderr",
     "output_type": "stream",
     "text": [
      "\n",
      "\n",
      "PDTZ-3 (steps=1000):   0%|                                                  | 0/500 [00:00<?, ?it/s]\u001b[A\u001b[A"
     ]
    },
    {
     "data": {
      "application/vnd.jupyter.widget-view+json": {
       "model_id": "227782dd8d054ffa9fcfcc8e3e3c44d6",
       "version_major": 2,
       "version_minor": 0
      },
      "text/plain": [
       "  0%|          | 0/500 [00:00<?, ?it/s]"
      ]
     },
     "metadata": {},
     "output_type": "display_data"
    },
    {
     "name": "stdout",
     "output_type": "stream",
     "text": [
      "\n",
      "============================================================\n",
      "Running experiments for steps=1500\n",
      "============================================================\n",
      "Running polynomial step-sizes...\n"
     ]
    },
    {
     "name": "stderr",
     "output_type": "stream",
     "text": [
      "\n",
      "\n",
      "\n",
      "Polynomial (steps=1500):   0%|                                              | 0/500 [00:00<?, ?it/s]\u001b[A\u001b[A\u001b[A"
     ]
    },
    {
     "data": {
      "application/vnd.jupyter.widget-view+json": {
       "model_id": "a23abf4384154b7aa1c2dac47499bc3f",
       "version_major": 2,
       "version_minor": 0
      },
      "text/plain": [
       "  0%|          | 0/500 [00:00<?, ?it/s]"
      ]
     },
     "metadata": {},
     "output_type": "display_data"
    },
    {
     "name": "stdout",
     "output_type": "stream",
     "text": [
      "Running constant step-sizes...\n"
     ]
    },
    {
     "name": "stderr",
     "output_type": "stream",
     "text": [
      "\n",
      "\n",
      "\n",
      "\n",
      "\n",
      "Constant (steps=1500):   0%|                                                | 0/500 [00:00<?, ?it/s]\u001b[A\u001b[A\u001b[A\u001b[A\u001b[A"
     ]
    },
    {
     "data": {
      "application/vnd.jupyter.widget-view+json": {
       "model_id": "281232551add4c009c3b955e9a4c83e8",
       "version_major": 2,
       "version_minor": 0
      },
      "text/plain": [
       "  0%|          | 0/500 [00:00<?, ?it/s]"
      ]
     },
     "metadata": {},
     "output_type": "display_data"
    },
    {
     "name": "stdout",
     "output_type": "stream",
     "text": [
      "Running LD2Z step-sizes...\n"
     ]
    },
    {
     "name": "stderr",
     "output_type": "stream",
     "text": [
      "\n",
      "\n",
      "\n",
      "\n",
      "\n",
      "\n",
      "LD2Z (steps=1500):   0%|                                                    | 0/500 [00:00<?, ?it/s]\u001b[A\u001b[A\u001b[A\u001b[A\u001b[A\u001b[A"
     ]
    },
    {
     "data": {
      "application/vnd.jupyter.widget-view+json": {
       "model_id": "7b0a42b283584b25a7f0eca7ece91f5e",
       "version_major": 2,
       "version_minor": 0
      },
      "text/plain": [
       "  0%|          | 0/500 [00:00<?, ?it/s]"
      ]
     },
     "metadata": {},
     "output_type": "display_data"
    },
    {
     "name": "stdout",
     "output_type": "stream",
     "text": [
      "Running PDTZ (power=2) step-sizes...\n"
     ]
    },
    {
     "name": "stderr",
     "output_type": "stream",
     "text": [
      "\n",
      "\n",
      "\n",
      "\n",
      "\n",
      "\n",
      "\n",
      "PDTZ-2 (steps=1500):   0%|                                                  | 0/500 [00:00<?, ?it/s]\u001b[A\u001b[A\u001b[A\u001b[A\u001b[A\u001b[A\u001b[A"
     ]
    },
    {
     "data": {
      "application/vnd.jupyter.widget-view+json": {
       "model_id": "6b5910dd12d54f2f9edeb85c407b764f",
       "version_major": 2,
       "version_minor": 0
      },
      "text/plain": [
       "  0%|          | 0/500 [00:00<?, ?it/s]"
      ]
     },
     "metadata": {},
     "output_type": "display_data"
    },
    {
     "name": "stdout",
     "output_type": "stream",
     "text": [
      "Running PDTZ (power=3) step-sizes...\n"
     ]
    },
    {
     "name": "stderr",
     "output_type": "stream",
     "text": [
      "\n",
      "\n",
      "\n",
      "\n",
      "\n",
      "\n",
      "\n",
      "\n",
      "\n",
      "PDTZ-3 (steps=1500):   0%|                                                  | 0/500 [00:00<?, ?it/s]\u001b[A\u001b[A\u001b[A\u001b[A\u001b[A\u001b[A\u001b[A\u001b[A\u001b[A"
     ]
    },
    {
     "data": {
      "application/vnd.jupyter.widget-view+json": {
       "model_id": "d568a595bf2c410f8318742ca1215a96",
       "version_major": 2,
       "version_minor": 0
      },
      "text/plain": [
       "  0%|          | 0/500 [00:00<?, ?it/s]"
      ]
     },
     "metadata": {},
     "output_type": "display_data"
    },
    {
     "name": "stderr",
     "output_type": "stream",
     "text": [
      "PDTZ-3 (steps=1000):   0%|                                                  | 0/500 [05:35<?, ?it/s]\n",
      "Polynomial (steps=1500):   0%|                                              | 0/500 [04:50<?, ?it/s]\n",
      "Constant (steps=1500):   0%|                                                | 0/500 [03:40<?, ?it/s]\n",
      "LD2Z (steps=1500):   0%|                                                    | 0/500 [02:35<?, ?it/s]\n",
      "PDTZ-2 (steps=1500):   0%|                                                  | 0/500 [01:26<?, ?it/s]\n"
     ]
    },
    {
     "name": "stdout",
     "output_type": "stream",
     "text": [
      "\n",
      "============================================================\n",
      "Running experiments for steps=2000\n",
      "============================================================\n",
      "Running polynomial step-sizes...\n"
     ]
    },
    {
     "name": "stderr",
     "output_type": "stream",
     "text": [
      "\n",
      "\n",
      "Polynomial (steps=2000):   0%|                                              | 0/500 [00:00<?, ?it/s]\u001b[A\u001b[A"
     ]
    },
    {
     "data": {
      "application/vnd.jupyter.widget-view+json": {
       "model_id": "34bc40b47b724e72833b453909aa0204",
       "version_major": 2,
       "version_minor": 0
      },
      "text/plain": [
       "  0%|          | 0/500 [00:00<?, ?it/s]"
      ]
     },
     "metadata": {},
     "output_type": "display_data"
    },
    {
     "name": "stdout",
     "output_type": "stream",
     "text": [
      "Running constant step-sizes...\n"
     ]
    },
    {
     "name": "stderr",
     "output_type": "stream",
     "text": [
      "\n",
      "\n",
      "\n",
      "Constant (steps=2000):   0%|                                                | 0/500 [00:00<?, ?it/s]\u001b[A\u001b[A\u001b[A"
     ]
    },
    {
     "data": {
      "application/vnd.jupyter.widget-view+json": {
       "model_id": "eae31dd09ab04b1297b5be0f363b2d0a",
       "version_major": 2,
       "version_minor": 0
      },
      "text/plain": [
       "  0%|          | 0/500 [00:00<?, ?it/s]"
      ]
     },
     "metadata": {},
     "output_type": "display_data"
    },
    {
     "name": "stdout",
     "output_type": "stream",
     "text": [
      "Running LD2Z step-sizes...\n"
     ]
    },
    {
     "name": "stderr",
     "output_type": "stream",
     "text": [
      "\n",
      "\n",
      "\n",
      "\n",
      "\n",
      "LD2Z (steps=2000):   0%|                                                    | 0/500 [00:00<?, ?it/s]\u001b[A\u001b[A\u001b[A\u001b[A\u001b[A"
     ]
    },
    {
     "data": {
      "application/vnd.jupyter.widget-view+json": {
       "model_id": "90ff7d40262e422fa76f4b01d2136ee0",
       "version_major": 2,
       "version_minor": 0
      },
      "text/plain": [
       "  0%|          | 0/500 [00:00<?, ?it/s]"
      ]
     },
     "metadata": {},
     "output_type": "display_data"
    },
    {
     "name": "stdout",
     "output_type": "stream",
     "text": [
      "Running PDTZ (power=2) step-sizes...\n"
     ]
    },
    {
     "name": "stderr",
     "output_type": "stream",
     "text": [
      "\n",
      "\n",
      "\n",
      "\n",
      "\n",
      "\n",
      "PDTZ-2 (steps=2000):   0%|                                                  | 0/500 [00:00<?, ?it/s]\u001b[A\u001b[A\u001b[A\u001b[A\u001b[A\u001b[A"
     ]
    },
    {
     "data": {
      "application/vnd.jupyter.widget-view+json": {
       "model_id": "01fba3835e33437b85fa48aa9aa35442",
       "version_major": 2,
       "version_minor": 0
      },
      "text/plain": [
       "  0%|          | 0/500 [00:00<?, ?it/s]"
      ]
     },
     "metadata": {},
     "output_type": "display_data"
    },
    {
     "name": "stdout",
     "output_type": "stream",
     "text": [
      "Running PDTZ (power=3) step-sizes...\n"
     ]
    },
    {
     "name": "stderr",
     "output_type": "stream",
     "text": [
      "\n",
      "\n",
      "\n",
      "\n",
      "\n",
      "\n",
      "\n",
      "PDTZ-3 (steps=2000):   0%|                                                  | 0/500 [00:00<?, ?it/s]\u001b[A\u001b[A\u001b[A\u001b[A\u001b[A\u001b[A\u001b[A"
     ]
    },
    {
     "data": {
      "application/vnd.jupyter.widget-view+json": {
       "model_id": "31d4763f1e814a5b877a55292b377aa5",
       "version_major": 2,
       "version_minor": 0
      },
      "text/plain": [
       "  0%|          | 0/500 [00:00<?, ?it/s]"
      ]
     },
     "metadata": {},
     "output_type": "display_data"
    },
    {
     "name": "stdout",
     "output_type": "stream",
     "text": [
      "\n",
      "============================================================\n",
      "Running experiments for steps=2500\n",
      "============================================================\n",
      "Running polynomial step-sizes...\n"
     ]
    },
    {
     "name": "stderr",
     "output_type": "stream",
     "text": [
      "\n",
      "\n",
      "\n",
      "\n",
      "\n",
      "\n",
      "\n",
      "\n",
      "\n",
      "\n",
      "Polynomial (steps=2500):   0%|                                              | 0/500 [00:00<?, ?it/s]\u001b[A\u001b[A\u001b[A\u001b[A\u001b[A\u001b[A\u001b[A\u001b[A\u001b[A\u001b[A"
     ]
    },
    {
     "data": {
      "application/vnd.jupyter.widget-view+json": {
       "model_id": "479fa66904374d9f920b8e28b4f71c2c",
       "version_major": 2,
       "version_minor": 0
      },
      "text/plain": [
       "  0%|          | 0/500 [00:00<?, ?it/s]"
      ]
     },
     "metadata": {},
     "output_type": "display_data"
    },
    {
     "name": "stderr",
     "output_type": "stream",
     "text": [
      "Polynomial (steps=2000):   0%|                                              | 0/500 [08:06<?, ?it/s]\n",
      "Constant (steps=2000):   0%|                                                | 0/500 [06:33<?, ?it/s]\n",
      "LD2Z (steps=2000):   0%|                                                    | 0/500 [05:02<?, ?it/s]\n",
      "PDTZ-2 (steps=2000):   0%|                                                  | 0/500 [03:29<?, ?it/s]\n",
      "PDTZ-3 (steps=2000):   0%|                                                  | 0/500 [01:57<?, ?it/s]\n",
      "Polynomial (steps=500):   0%|                                               | 0/500 [24:16<?, ?it/s]\n",
      "Polynomial (steps=500):   0%|                                               | 0/500 [23:40<?, ?it/s]\n",
      "LD2Z (steps=500):   0%|                                                     | 0/500 [19:57<?, ?it/s]\n",
      "PDTZ-2 (steps=1000):   0%|                                                  | 0/500 [16:36<?, ?it/s]\n",
      "PDTZ-3 (steps=1500):   0%|                                                  | 0/500 [10:31<?, ?it/s]\n"
     ]
    },
    {
     "name": "stdout",
     "output_type": "stream",
     "text": [
      "Running constant step-sizes...\n"
     ]
    },
    {
     "name": "stderr",
     "output_type": "stream",
     "text": [
      "Constant (steps=2500):   0%|                                                | 0/500 [00:00<?, ?it/s]"
     ]
    },
    {
     "data": {
      "application/vnd.jupyter.widget-view+json": {
       "model_id": "731a30ca18334f20b77819f34893b119",
       "version_major": 2,
       "version_minor": 0
      },
      "text/plain": [
       "  0%|          | 0/500 [00:00<?, ?it/s]"
      ]
     },
     "metadata": {},
     "output_type": "display_data"
    },
    {
     "name": "stdout",
     "output_type": "stream",
     "text": [
      "Running LD2Z step-sizes...\n"
     ]
    },
    {
     "name": "stderr",
     "output_type": "stream",
     "text": [
      "\n",
      "LD2Z (steps=2500):   0%|                                                    | 0/500 [00:00<?, ?it/s]\u001b[A"
     ]
    },
    {
     "data": {
      "application/vnd.jupyter.widget-view+json": {
       "model_id": "d1730bc4fe0c41c990a9b7f24fee7e1e",
       "version_major": 2,
       "version_minor": 0
      },
      "text/plain": [
       "  0%|          | 0/500 [00:00<?, ?it/s]"
      ]
     },
     "metadata": {},
     "output_type": "display_data"
    },
    {
     "name": "stdout",
     "output_type": "stream",
     "text": [
      "Running PDTZ (power=2) step-sizes...\n"
     ]
    },
    {
     "name": "stderr",
     "output_type": "stream",
     "text": [
      "\n",
      "\n",
      "PDTZ-2 (steps=2500):   0%|                                                  | 0/500 [00:00<?, ?it/s]\u001b[A\u001b[A"
     ]
    },
    {
     "data": {
      "application/vnd.jupyter.widget-view+json": {
       "model_id": "76e6efbe710e43f3b9f2349708a915ab",
       "version_major": 2,
       "version_minor": 0
      },
      "text/plain": [
       "  0%|          | 0/500 [00:00<?, ?it/s]"
      ]
     },
     "metadata": {},
     "output_type": "display_data"
    },
    {
     "name": "stdout",
     "output_type": "stream",
     "text": [
      "Running PDTZ (power=3) step-sizes...\n"
     ]
    },
    {
     "name": "stderr",
     "output_type": "stream",
     "text": [
      "\n",
      "\n",
      "\n",
      "PDTZ-3 (steps=2500):   0%|                                                  | 0/500 [00:00<?, ?it/s]\u001b[A\u001b[A\u001b[A"
     ]
    },
    {
     "data": {
      "application/vnd.jupyter.widget-view+json": {
       "model_id": "6a80d62591e84681b83990f1925e37f6",
       "version_major": 2,
       "version_minor": 0
      },
      "text/plain": [
       "  0%|          | 0/500 [00:00<?, ?it/s]"
      ]
     },
     "metadata": {},
     "output_type": "display_data"
    },
    {
     "name": "stderr",
     "output_type": "stream",
     "text": [
      "Constant (steps=2500):   0%|                                                | 0/500 [07:26<?, ?it/s]\n",
      "LD2Z (steps=2500):   0%|                                                    | 0/500 [05:39<?, ?it/s]\n",
      "PDTZ-2 (steps=2500):   0%|                                                  | 0/500 [03:46<?, ?it/s]\n",
      "PDTZ-3 (steps=2500):   0%|                                                  | 0/500 [01:53<?, ?it/s]"
     ]
    },
    {
     "name": "stdout",
     "output_type": "stream",
     "text": [
      "\n",
      "Saved all results to results_by_steps.pkl\n"
     ]
    },
    {
     "name": "stderr",
     "output_type": "stream",
     "text": [
      "\n"
     ]
    }
   ],
   "source": [
    "#!/usr/bin/env python\n",
    "import numpy as np\n",
    "import random\n",
    "from tqdm import tqdm\n",
    "import pickle\n",
    "\n",
    "np.set_printoptions(precision=4, suppress=True)\n",
    "\n",
    "# ------------------------------\n",
    "# Q-Learning Code Implementation\n",
    "# ------------------------------\n",
    "class GridworldEnv:\n",
    "    def __init__(self, grid_size=(4, 4)):\n",
    "        self.rows, self.cols = grid_size\n",
    "        # Define special states with forced destination and reward.\n",
    "        self.special_states = {\n",
    "            (0, 1): {'dest': (3, 1), 'reward': 10},\n",
    "            (0, 3): {'dest': (2, 3), 'reward': 5}\n",
    "        }\n",
    "        # Actions: 0: left, 1: up, 2: right, 3: down.\n",
    "        self.actions = {\n",
    "            0: (0, -1),\n",
    "            1: (-1, 0),\n",
    "            2: (0, 1),\n",
    "            3: (1, 0)\n",
    "        }\n",
    "        self.action_list = [0, 1, 2, 3]\n",
    "        self.intended_prob = 0.9\n",
    "        self.slip_prob = 0.05  # probability for each perpendicular move\n",
    "\n",
    "    def in_bounds(self, state):\n",
    "        r, c = state\n",
    "        return 0 <= r < self.rows and 0 <= c < self.cols\n",
    "\n",
    "    def get_perpendicular_actions(self, action):\n",
    "        if action in [0, 2]:\n",
    "            return [1, 3]\n",
    "        elif action in [1, 3]:\n",
    "            return [0, 2]\n",
    "        else:\n",
    "            return []\n",
    "\n",
    "    def get_outcomes(self, state, action):\n",
    "        \"\"\"\n",
    "        Computes all possible outcomes for a given state and action.\n",
    "        Returns a list of tuples: (probability, next_state, reward)\n",
    "        following the dynamics of the gridworld.\n",
    "        \"\"\"\n",
    "        if state in self.special_states:\n",
    "            forced_dest = self.special_states[state]['dest']\n",
    "            reward = self.special_states[state]['reward']\n",
    "            return [(1.0, forced_dest, reward)]\n",
    "\n",
    "        outcomes = []\n",
    "        intended_action = action\n",
    "        base_reward = 0\n",
    "        probs = [self.intended_prob, self.slip_prob, self.slip_prob]\n",
    "        actions_to_consider = [intended_action] + self.get_perpendicular_actions(intended_action)\n",
    "        for act, p in zip(actions_to_consider, probs):\n",
    "            dr, dc = self.actions[act]\n",
    "            next_state = (state[0] + dr, state[1] + dc)\n",
    "            if not self.in_bounds(next_state):\n",
    "                outcomes.append((p, state, -1))\n",
    "            else:\n",
    "                outcomes.append((p, next_state, base_reward))\n",
    "        return outcomes\n",
    "\n",
    "def compute_optimal_Q(env, gamma=0.9, tol=1e-9, max_iter=10000):\n",
    "    \"\"\"\n",
    "    Compute the optimal Q-function Q* using value iteration.\n",
    "    Returns Q* as a (rows x cols x num_actions) numpy array.\n",
    "    \"\"\"\n",
    "    Q = np.zeros((env.rows, env.cols, len(env.action_list)))\n",
    "    for it in range(max_iter):\n",
    "        Q_new = np.zeros_like(Q)\n",
    "        for r in range(env.rows):\n",
    "            for c in range(env.cols):\n",
    "                state = (r, c)\n",
    "                for a in env.action_list:\n",
    "                    if state in env.special_states:\n",
    "                        forced_dest = env.special_states[state]['dest']\n",
    "                        reward = env.special_states[state]['reward']\n",
    "                        Q_new[r, c, a] = reward + gamma * np.max(Q[forced_dest[0], forced_dest[1]])\n",
    "                    else:\n",
    "                        probs = [env.intended_prob, env.slip_prob, env.slip_prob]\n",
    "                        actions_to_consider = [a] + env.get_perpendicular_actions(a)\n",
    "                        value = 0.0\n",
    "                        for p, act in zip(probs, actions_to_consider):\n",
    "                            dr, dc = env.actions[act]\n",
    "                            next_state = (r + dr, c + dc)\n",
    "                            if not env.in_bounds(next_state):\n",
    "                                value += p * (-1 + gamma * np.max(Q[r, c]))\n",
    "                            else:\n",
    "                                value += p * (0 + gamma * np.max(Q[next_state[0], next_state[1]]))\n",
    "                        Q_new[r, c, a] = value\n",
    "        err = np.max(np.abs(Q_new - Q))\n",
    "        Q = Q_new\n",
    "        if err < tol:\n",
    "            print(f\"Value iteration converged in {it+1} iterations with error {err:.2e}.\")\n",
    "            break\n",
    "    return Q\n",
    "\n",
    "class QLearningAgent:\n",
    "    def __init__(self, env, alpha_constant=0.1,alpha_diminishing=0.5, gamma=0.9):\n",
    "        self.env = env\n",
    "        self.alpha_constant = alpha_constant      # learning rate\n",
    "        self.alpha_diminishing = alpha_diminishing \n",
    "        self.gamma = gamma      # discount factor\n",
    "        #self.epsilon = epsilon  # exploration rate\n",
    "        self.Q = np.zeros((env.rows, env.cols, len(env.action_list)))\n",
    "\n",
    "def run_q_learning(Q_star,constant_steps=5, diminishing_steps=2, alpha_constant=0.05, alpha_diminishing=0.05,\n",
    "                   gamma=0.7, beta=0.65):\n",
    "    env = GridworldEnv()\n",
    "    agent = QLearningAgent(env, alpha_constant=alpha_constant, alpha_diminishing=alpha_diminishing, gamma=gamma)\n",
    "    #Q_star = compute_optimal_Q(env, gamma=gamma)\n",
    "\n",
    "    Q_traj = agent.Q.copy() \n",
    "    #print(Q_traj)\n",
    "    # List to store copies of the Q-function.\n",
    "    branch_probs = [env.intended_prob, env.slip_prob, env.slip_prob]\n",
    "    #error_history = []   # To record the sup-norm error after each episode\n",
    "    #partial_sum = np.zeros_like(Q_star)\n",
    "    #max_norm = 0.0\n",
    "\n",
    "    for t in range(constant_steps):\n",
    "        branch = np.random.choice([0, 1, 2], p=branch_probs)\n",
    "        for r in range(env.rows):\n",
    "            for c in range(env.cols):\n",
    "                s = (r, c)\n",
    "                for a in env.action_list:\n",
    "                    if s in env.special_states:\n",
    "                        forced_dest = env.special_states[s]['dest']\n",
    "                        reward = env.special_states[s]['reward']\n",
    "                        bellman_op = reward + gamma * np.max(Q_traj[forced_dest[0], forced_dest[1]])\n",
    "                    else:\n",
    "                        outcomes = env.get_outcomes(s, a)\n",
    "                        _, s_next, r_val = outcomes[branch]\n",
    "                        bellman_op = r_val + gamma * np.max(Q_traj[s_next[0], s_next[1]])\n",
    "                    agent.Q[r, c, a] = (1 - alpha_constant) * agent.Q[r, c, a] + alpha_constant * bellman_op\n",
    "        Q_traj = agent.Q.copy()\n",
    "        #error_history.append(np.max(np.abs(Q_traj - Q_star)))\n",
    "        #partial_sum += (Q_traj - Q_star)\n",
    "        #current_norm = np.max(np.abs(partial_sum))\n",
    "        #if current_norm > max_norm:\n",
    "         #   max_norm = current_norm\n",
    "        #print(Q_traj)\n",
    "        \n",
    "    #partial_sum = np.zeros_like(Q_star)\n",
    "    #max_norm = 0.0\n",
    "    \n",
    "    for t in range(diminishing_steps):\n",
    "        branch = np.random.choice([0, 1, 2], p=branch_probs)\n",
    "        for r in range(env.rows):\n",
    "            for c in range(env.cols):\n",
    "                s = (r, c)\n",
    "                for a in env.action_list:\n",
    "                    if s in env.special_states:\n",
    "                        forced_dest = env.special_states[s]['dest']\n",
    "                        reward = env.special_states[s]['reward']\n",
    "                        bellman_op = reward + gamma * np.max(Q_traj[forced_dest[0], forced_dest[1]])\n",
    "                    else:\n",
    "                        outcomes = env.get_outcomes(s, a)\n",
    "                        _, s_next, r_val = outcomes[branch]\n",
    "                        bellman_op = r_val + gamma * np.max(Q_traj[s_next[0], s_next[1]])\n",
    "                    lr = alpha_diminishing * ((t + 1) ** (-beta))\n",
    "                    agent.Q[r, c, a] = (1 - lr) * agent.Q[r, c, a] + lr * bellman_op\n",
    "        Q_traj = agent.Q.copy()\n",
    "        #print(Q_traj)\n",
    "#         error_history.append(np.max(np.abs(Q_traj - Q_star)))\n",
    "#         partial_sum += (Q_traj - Q_star)\n",
    "#         current_norm = np.max(np.abs(partial_sum))\n",
    "#         if current_norm > max_norm:\n",
    "#             max_norm = current_norm\n",
    "                    \n",
    "    return  Q_traj\n",
    "\n",
    "def run_q_learning_LD2Z(Q_star,steps=2, gamma=0.7, eta=0.65, power=1):\n",
    "    env = GridworldEnv()\n",
    "    agent = QLearningAgent(env, alpha_constant=alpha_constant, alpha_diminishing=alpha_diminishing, gamma=gamma)\n",
    "    #Q_star = compute_optimal_Q(env, gamma=gamma)\n",
    "\n",
    "    Q_traj = agent.Q.copy() \n",
    "    #print(Q_traj)\n",
    "    # List to store copies of the Q-function.\n",
    "    branch_probs = [env.intended_prob, env.slip_prob, env.slip_prob]\n",
    "    #error_history = []   # To record the sup-norm error after each episode\n",
    "    \n",
    "    #partial_sum = np.zeros_like(Q_star)\n",
    "    max_norm = 0.0\n",
    "\n",
    "    for t in range(steps):\n",
    "        branch = np.random.choice([0, 1, 2], p=branch_probs)\n",
    "        for r in range(env.rows):\n",
    "            for c in range(env.cols):\n",
    "                s = (r, c)\n",
    "                for a in env.action_list:\n",
    "                    if s in env.special_states:\n",
    "                        forced_dest = env.special_states[s]['dest']\n",
    "                        reward = env.special_states[s]['reward']\n",
    "                        bellman_op = reward + gamma * np.max(Q_traj[forced_dest[0], forced_dest[1]])\n",
    "                    else:\n",
    "                        outcomes = env.get_outcomes(s, a)\n",
    "                        _, s_next, r_val = outcomes[branch]\n",
    "                        bellman_op = r_val + gamma * np.max(Q_traj[s_next[0], s_next[1]])\n",
    "                    \n",
    "                    lr = eta * ((1- t/steps)** power)\n",
    "                    agent.Q[r, c, a] = (1 - lr) * agent.Q[r, c, a] + lr * bellman_op\n",
    "        Q_traj = agent.Q.copy()\n",
    "        #print(Q_traj)\n",
    "#         error_history.append(np.max(np.abs(Q_traj - Q_star)))\n",
    "#         partial_sum += (Q_traj - Q_star)\n",
    "#         current_norm = np.max(np.abs(partial_sum))\n",
    "#         if current_norm > max_norm:\n",
    "#             max_norm = current_norm\n",
    "        #print(Q_traj)\n",
    "    return  Q_traj\n",
    "\n",
    "from joblib import Parallel, delayed\n",
    "from tqdm import tqdm\n",
    "from tqdm_joblib import tqdm_joblib\n",
    "\n",
    "def run_single_q_learning(seed, Q_star, constant_steps, diminishing_steps, alpha_constant, alpha_diminishing, gamma, beta):\n",
    "    np.random.seed(seed)\n",
    "    random.seed(seed)\n",
    "    Q_traj = run_q_learning(Q_star = Q_star,\n",
    "        constant_steps=constant_steps,\n",
    "        diminishing_steps=diminishing_steps,\n",
    "        alpha_constant= alpha_constant, \n",
    "        alpha_diminishing=alpha_diminishing,\n",
    "        gamma=gamma,\n",
    "        beta=beta\n",
    "    )\n",
    "    return  Q_traj\n",
    "\n",
    "def run_single_q_learning_LD2Z(seed, Q_star, steps, gamma, eta, power):\n",
    "    np.random.seed(seed)\n",
    "    random.seed(seed)\n",
    "    Q_traj = run_q_learning_LD2Z(Q_star = Q_star,\n",
    "        steps=steps,\n",
    "        gamma=gamma,\n",
    "        eta=eta,\n",
    "        power=power\n",
    "    )\n",
    "    return  Q_traj\n",
    "\n",
    "# ===========================\n",
    "# MAIN EXPERIMENT CODE\n",
    "# ===========================\n",
    "\n",
    "if __name__ == \"__main__\":\n",
    "    # Experiment parameters\n",
    "    B = 500  # Number of runs per step configuration\n",
    "    steps_list = [500, 1000, 1500, 2000, 2500]\n",
    "    \n",
    "    # Fixed parameters\n",
    "    alpha_constant = 0.05\n",
    "    alpha_diminishing = 0.05\n",
    "    gamma = 0.1\n",
    "    beta = 0.65\n",
    "    eta = alpha_diminishing\n",
    "    n_jobs = 5\n",
    "    \n",
    "    # Compute Q^star\n",
    "    env = GridworldEnv()\n",
    "    Q_star = compute_optimal_Q(env, gamma=gamma)\n",
    "    \n",
    "    # Storage for results\n",
    "    results_by_steps = {\n",
    "        'poly': {},\n",
    "        'const': {},\n",
    "        'ld2z': {},\n",
    "        'pdtz_2': {},\n",
    "        'pdtz_3': {}\n",
    "    }\n",
    "    \n",
    "    # Run experiments for each step size\n",
    "    for steps in steps_list:\n",
    "        print(f\"\\n{'='*60}\")\n",
    "        print(f\"Running experiments for steps={steps}\")\n",
    "        print(f\"{'='*60}\")\n",
    "        \n",
    "        constant_steps_1 = 0\n",
    "        constant_steps_2 = steps\n",
    "        diminishing_steps = steps\n",
    "        \n",
    "        seeds = list(range(B))\n",
    "        \n",
    "        # Polynomial decaying step-sizes\n",
    "        print(f\"Running polynomial step-sizes...\")\n",
    "        with tqdm_joblib(tqdm(total=B, desc=f\"Polynomial (steps={steps})\", ncols=100)):\n",
    "            results_poly = Parallel(n_jobs=n_jobs)(\n",
    "                delayed(run_single_q_learning)(seed, Q_star, constant_steps_1, diminishing_steps,\n",
    "                                                alpha_constant, alpha_diminishing, gamma, beta)\n",
    "                for seed in seeds\n",
    "            )\n",
    "        \n",
    "        # Constant step-sizes\n",
    "        print(f\"Running constant step-sizes...\")\n",
    "        with tqdm_joblib(tqdm(total=B, desc=f\"Constant (steps={steps})\", ncols=100)):\n",
    "            results_const = Parallel(n_jobs=n_jobs)(\n",
    "                delayed(run_single_q_learning)(seed, Q_star, constant_steps_2, 0,\n",
    "                                                alpha_constant, alpha_diminishing, gamma, beta)\n",
    "                for seed in seeds\n",
    "            )\n",
    "        \n",
    "        # Linearly decaying (LD2Z)\n",
    "        print(f\"Running LD2Z step-sizes...\")\n",
    "        with tqdm_joblib(tqdm(total=B, desc=f\"LD2Z (steps={steps})\", ncols=100)):\n",
    "            results_ld2z = Parallel(n_jobs=n_jobs)(\n",
    "                delayed(run_single_q_learning_LD2Z)(seed, Q_star, steps, gamma, eta, power=1)\n",
    "                for seed in seeds\n",
    "            )\n",
    "        \n",
    "        # PDTZ with power=2\n",
    "        print(f\"Running PDTZ (power=2) step-sizes...\")\n",
    "        with tqdm_joblib(tqdm(total=B, desc=f\"PDTZ-2 (steps={steps})\", ncols=100)):\n",
    "            results_pdtz_2 = Parallel(n_jobs=n_jobs)(\n",
    "                delayed(run_single_q_learning_LD2Z)(seed, Q_star, steps, gamma, eta, power=2)\n",
    "                for seed in seeds\n",
    "            )\n",
    "        \n",
    "        # PDTZ with power=3\n",
    "        print(f\"Running PDTZ (power=3) step-sizes...\")\n",
    "        with tqdm_joblib(tqdm(total=B, desc=f\"PDTZ-3 (steps={steps})\", ncols=100)):\n",
    "            results_pdtz_3 = Parallel(n_jobs=n_jobs)(\n",
    "                delayed(run_single_q_learning_LD2Z)(seed, Q_star, steps, gamma, eta, power=3)\n",
    "                for seed in seeds\n",
    "            )\n",
    "        \n",
    "        # Store results\n",
    "        results_by_steps['poly'][steps] = results_poly\n",
    "        results_by_steps['const'][steps] = results_const\n",
    "        results_by_steps['ld2z'][steps] = results_ld2z\n",
    "        results_by_steps['pdtz_2'][steps] = results_pdtz_2\n",
    "        results_by_steps['pdtz_3'][steps] = results_pdtz_3\n",
    "    \n",
    "    # Save all results\n",
    "    with open(\"results_by_steps.pkl\", \"wb\") as f:\n",
    "        pickle.dump(results_by_steps, f)\n",
    "    print(f\"\\nSaved all results to results_by_steps.pkl\")"
   ]
  },
  {
   "cell_type": "code",
   "execution_count": 15,
   "id": "5ae11766",
   "metadata": {},
   "outputs": [
    {
     "data": {
      "image/png": "[encoded data removed]",
      "text/plain": [
       "<Figure size 1500x900 with 1 Axes>"
      ]
     },
     "metadata": {},
     "output_type": "display_data"
    }
   ],
   "source": [
    "# Set matplotlib parameters\n",
    "import matplotlib as mpl\n",
    "import matplotlib.pyplot as plt\n",
    "import numpy as np\n",
    "import random\n",
    "import pickle\n",
    "\n",
    "mpl.rcParams.update({\n",
    "    \"figure.dpi\": 150,\n",
    "    \"savefig.dpi\": 300,\n",
    "    \"font.family\": \"serif\",\n",
    "    \"font.serif\": [\"Times New Roman\", \"DejaVu Serif\"],\n",
    "    \"mathtext.fontset\": \"stix\",\n",
    "    \"axes.spines.left\": True,\n",
    "    \"axes.spines.bottom\": True,\n",
    "    \"axes.spines.right\": False,\n",
    "    \"axes.spines.top\": False,\n",
    "    \"axes.linewidth\": 1.1,\n",
    "    \"axes.titlesize\": 14,\n",
    "    \"axes.labelsize\": 12,\n",
    "    \"xtick.labelsize\": 11,\n",
    "    \"ytick.labelsize\": 11,\n",
    "    \"legend.frameon\": False,\n",
    "    \"legend.fontsize\": 10,\n",
    "    \"axes.grid\": True,\n",
    "    \"grid.alpha\": 0.25,\n",
    "    \"grid.linestyle\": \"--\",\n",
    "    \"grid.linewidth\": 0.6,\n",
    "    \"xtick.major.size\": 4,\n",
    "    \"ytick.major.size\": 4,\n",
    "    \"xtick.minor.size\": 2.5,\n",
    "    \"ytick.minor.size\": 2.5,\n",
    "    \"xtick.direction\": \"in\",\n",
    "    \"ytick.direction\": \"in\",\n",
    "    \"figure.autolayout\": False\n",
    "})\n",
    "\n",
    "# Compute mean and std of ||Q - Q*||_inf for each method\n",
    "mean_errors = {method: [] for method in results_by_steps.keys()}\n",
    "std_errors = {method: [] for method in results_by_steps.keys()}\n",
    "\n",
    "for method in results_by_steps.keys():\n",
    "    for steps in steps_list:\n",
    "        Q_trajs = results_by_steps[method][steps]\n",
    "        errors = []\n",
    "        for Q_traj in Q_trajs:\n",
    "            error = np.max(np.abs(Q_traj - Q_star))\n",
    "            errors.append(error)\n",
    "        mean_errors[method].append(np.mean(errors))\n",
    "        std_errors[method].append(np.std(errors))\n",
    "\n",
    "# Create the plot\n",
    "fig, ax = plt.subplots(figsize=(10, 6))\n",
    "\n",
    "# Define colors and labels for each method\n",
    "colors = {\n",
    "    'const': '#ff7f0e', \n",
    "    'ld2z': '#2ca02c',\n",
    "    'pdtz_2': '#d62728',\n",
    "    'pdtz_3': '#9467bd'\n",
    "}\n",
    "\n",
    "labels = {\n",
    "    'const': 'Constant: $\\eta_t = 0.05$)',\n",
    "    'ld2z': r\"$\\mathtt{LD2Z}: \\eta_t = 0.05(1-t/n)$)\",\n",
    "    'pdtz_2': r\"$\\mathtt{PD2Z}$-$\\nu: \\eta_t =0.05 (1-t/n)^\\nu, \\nu=2$\",\n",
    "    'pdtz_3': r\"$\\mathtt{PD2Z}$-$\\nu: \\eta_t =0.05 (1-t/n)^\\nu, \\nu=3$\"\n",
    "}\n",
    "\n",
    "# Plot each method (excluding 'poly')\n",
    "for method in results_by_steps.keys():\n",
    "    if method != 'poly':  # Skip poly method\n",
    "        means = np.array(mean_errors[method])\n",
    "        stds = np.array(std_errors[method])\n",
    "\n",
    "        # Plot mean line\n",
    "        ax.plot(steps_list, means, 'o-', color=colors[method], \n",
    "                label=labels[method], linewidth=2, markersize=8)\n",
    "\n",
    "        # Add shaded region for standard deviation\n",
    "        ax.fill_between(steps_list, means - stds, means + stds, \n",
    "                        alpha=0.2, color=colors[method])\n",
    "\n",
    "ax.set_xlabel('$n$', fontsize=13)\n",
    "ax.set_ylabel('$\\\\|Q_n - Q^*\\\\|_\\\\infty$ ', fontsize=13)\n",
    "#ax.set_title('Q-Learning Convergence: Final Error vs Number of Steps', fontsize=14)\n",
    "ax.legend(loc='best', fontsize=11)\n",
    "ax.grid(True, alpha=0.3)\n",
    "ax.minorticks_on()\n",
    "\n",
    "# Set x-axis to show all step values\n",
    "ax.set_xticks(steps_list)\n",
    "ax.set_xticklabels(steps_list)\n",
    "\n",
    "plt.tight_layout()\n",
    "plt.savefig('q_learning_iterate_convergence_vs_steps.png', dpi=300, bbox_inches='tight')\n",
    "plt.show()\n",
    "\n",
    "#     # Also create a log-scale plot\n",
    "#     fig2, ax2 = plt.subplots(figsize=(10, 6))\n",
    "\n",
    "#     for method in results_by_steps.keys():\n",
    "#         means = np.array(mean_errors[method])\n",
    "#         stds = np.array(std_errors[method])\n",
    "\n",
    "#         ax2.semilogy(steps_list, means, 'o-', color=colors[method], \n",
    "#                      label=labels[method], linewidth=2, markersize=8)\n",
    "\n",
    "#         # Add shaded region (careful with log scale)\n",
    "#         lower_bound = np.maximum(means - stds, 1e-10)  # Avoid negative values in log scale\n",
    "#         upper_bound = means + stds\n",
    "#         ax2.fill_between(steps_list, lower_bound, upper_bound, \n",
    "#                          alpha=0.2, color=colors[method])\n",
    "\n",
    "#     ax2.set_xlabel('Number of Steps', fontsize=13)\n",
    "#     ax2.set_ylabel('$\\\\|Q - Q^*\\\\|_\\\\infty$ (Final Error, log scale)', fontsize=13)\n",
    "#     ax2.set_title('Q-Learning Convergence: Final Error vs Number of Steps (Log Scale)', fontsize=14)\n",
    "#     ax2.legend(loc='best', fontsize=11)\n",
    "#     ax2.grid(True, alpha=0.3, which='both')\n",
    "#     ax2.minorticks_on()\n",
    "#     ax2.set_xticks(steps_list)\n",
    "#     ax2.set_xticklabels(steps_list)\n",
    "\n",
    "#     plt.tight_layout()\n",
    "#     plt.savefig('q_learning_convergence_vs_steps_log.png', dpi=300, bbox_inches='tight')\n",
    "#     plt.show()\n",
    "\n",
    "#     print(\"\\nExperiment complete! Plots saved as:\")\n",
    "#     print(\"  - q_learning_convergence_vs_steps.png\")\n",
    "#     print(\"  - q_learning_convergence_vs_steps_log.png\")"
   ]
  },
  {
   "cell_type": "code",
   "execution_count": null,
   "id": "6b32df13",
   "metadata": {},
   "outputs": [],
   "source": []
  },
  {
   "cell_type": "code",
   "execution_count": null,
   "id": "427e2429",
   "metadata": {},
   "outputs": [],
   "source": []
  },
  {
   "cell_type": "code",
   "execution_count": null,
   "id": "21af0647",
   "metadata": {},
   "outputs": [],
   "source": []
  },
  {
   "cell_type": "code",
   "execution_count": null,
   "id": "02d45c46",
   "metadata": {},
   "outputs": [],
   "source": []
  }
 ],
 "metadata": {
  "kernelspec": {
   "display_name": "Python (16GB venv)",
   "language": "python",
   "name": "jupyter_env"
  },
  "language_info": {
   "codemirror_mode": {
    "name": "ipython",
    "version": 3
   },
   "file_extension": ".py",
   "mimetype": "text/x-python",
   "name": "python",
   "nbconvert_exporter": "python",
   "pygments_lexer": "ipython3",
   "version": "3.11.4"
  }
 },
 "nbformat": 4,
 "nbformat_minor": 5
}
